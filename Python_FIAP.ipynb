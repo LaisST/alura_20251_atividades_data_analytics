{
  "nbformat": 4,
  "nbformat_minor": 0,
  "metadata": {
    "colab": {
      "provenance": [],
      "authorship_tag": "ABX9TyMEiX57BAHcoC9K7e4IPR7f",
      "include_colab_link": true
    },
    "kernelspec": {
      "name": "python3",
      "display_name": "Python 3"
    },
    "language_info": {
      "name": "python"
    }
  },
  "cells": [
    {
      "cell_type": "markdown",
      "metadata": {
        "id": "view-in-github",
        "colab_type": "text"
      },
      "source": [
        "<a href=\"https://colab.research.google.com/github/LaisST/alura_20251_atividades_data_analytics/blob/main/Python_FIAP.ipynb\" target=\"_parent\"><img src=\"https://colab.research.google.com/assets/colab-badge.svg\" alt=\"Open In Colab\"/></a>"
      ]
    },
    {
      "cell_type": "markdown",
      "source": [
        "# CAP 2 - Variáveis, Tomada de Decisão e Laços de Repetição"
      ],
      "metadata": {
        "id": "7w3bvoUOj1Om"
      }
    },
    {
      "cell_type": "code",
      "execution_count": null,
      "metadata": {
        "id": "p4qtMLLajxgW"
      },
      "outputs": [],
      "source": [
        "#Criando Variáveis\n",
        "nome = \"Lais Costa\"\n",
        "empresa = \"Raízen\"\n",
        "quantidade_funcionarios = 500\n",
        "media_mensalidade = 856.50"
      ]
    },
    {
      "cell_type": "code",
      "source": [
        "print(nome + \" trabalha na empresa \" + empresa)\n",
        "print(\"Possui: \", quantidade_funcionarios, \" funcionarios.\")\n",
        "print(\"A média da mensalidade é de: \" + str(media_mensalidade))"
      ],
      "metadata": {
        "colab": {
          "base_uri": "https://localhost:8080/"
        },
        "id": "zMP3VW8bqhIh",
        "outputId": "6de3d5cf-ab79-46e6-d1b1-ed22bb434992"
      },
      "execution_count": null,
      "outputs": [
        {
          "output_type": "stream",
          "name": "stdout",
          "text": [
            "Lais Costa trabalha na empresa Raízen\n",
            "Possui:  500  funcionarios.\n",
            "A média da mensalidade é de: 856.5\n"
          ]
        }
      ]
    },
    {
      "cell_type": "markdown",
      "source": [],
      "metadata": {
        "id": "A9-4pEEOrB_r"
      }
    },
    {
      "cell_type": "code",
      "source": [
        "nome = input(\"Digite um funcionário: \")\n",
        "empresa = input(\"Digite a instituição: \")\n",
        "quantidade_funcionarios = int(input(\"Digite a quantidade de funcionários: \"))\n",
        "media_mensalidade = float(input(\"Digite a média de mensalidade: \"))\n",
        "print(nome + \" trabalha na empresa \" + empresa)\n",
        "print(\"Possui: \", quantidade_funcionarios, \" funcionarios.\")\n",
        "print(\"A média da mensalidade é de: \" + str(media_mensalidade))"
      ],
      "metadata": {
        "colab": {
          "base_uri": "https://localhost:8080/"
        },
        "id": "EYk5CBiErBYL",
        "outputId": "63615401-bdfa-4493-a3b9-352926cdd85e"
      },
      "execution_count": null,
      "outputs": [
        {
          "output_type": "stream",
          "name": "stdout",
          "text": [
            "Digite um funcionário: Marcos Berto\n",
            "Digite a instituição: Itau\n",
            "Digite a quantidade de funcionários: 1000\n",
            "Digite a média de mensalidade: 258.65\n",
            "Marcos Berto trabalha na empresa Itau\n",
            "Possui:  1000  funcionarios.\n",
            "A média da mensalidade é de: 258.65\n"
          ]
        }
      ]
    },
    {
      "cell_type": "code",
      "source": [],
      "metadata": {
        "id": "2AE32VDh2rMn"
      },
      "execution_count": null,
      "outputs": []
    },
    {
      "cell_type": "code",
      "source": [
        "print(\"==============Verifique os tipos de dados abaixo:==============\")\n",
        "print(\"O tipo de dado da variavel [nome] é: \",type(nome))\n",
        "print(\"O tipo de dado da variavel [empresa] é: \",type(empresa))\n",
        "print(\"O tipo de dado da variavel [qtde_funcionarios] é: \",type(quantidade_funcionarios))\n",
        "print(\"O tipo de dado da variavel [mediaMensalidade] é: \",type(media_mensalidade))"
      ],
      "metadata": {
        "colab": {
          "base_uri": "https://localhost:8080/"
        },
        "outputId": "ee0c4ba9-5a67-4c02-fa6d-c3648a9fd76d",
        "id": "bHatTJXT2re8"
      },
      "execution_count": null,
      "outputs": [
        {
          "output_type": "stream",
          "name": "stdout",
          "text": [
            "==============Verifique os tipos de dados abaixo:==============\n",
            "O tipo de dado da variavel [nome] é:  <class 'str'>\n",
            "O tipo de dado da variavel [empresa] é:  <class 'str'>\n",
            "O tipo de dado da variavel [qtde_funcionarios] é:  <class 'int'>\n",
            "O tipo de dado da variavel [mediaMensalidade] é:  <class 'float'>\n"
          ]
        }
      ]
    },
    {
      "cell_type": "markdown",
      "source": [
        "#Tomadas de Decisões\n",
        "\n",
        "A estrutura condicional é usada para tomada de decisão dentro do código.\n",
        "\n"
      ],
      "metadata": {
        "id": "Nqo7EDvE-SSY"
      }
    },
    {
      "cell_type": "markdown",
      "source": [
        "###Decisão Simples"
      ],
      "metadata": {
        "id": "EfPu__Fs-eql"
      }
    },
    {
      "cell_type": "code",
      "source": [
        "nome=input(\"Digite o nome: \")\n",
        "idade=int(input(\"Digite a idade: \"))\n",
        "prioridade=\"NÃO\"\n",
        "if idade>=65:\n",
        "    prioridade=\"SIM\" #Apenas um bloco de retorno\n",
        "print(\"O paciente \" + nome + \" possui atendimento prioritário? \" + prioridade)"
      ],
      "metadata": {
        "id": "vcgGN-Wm2uqh",
        "colab": {
          "base_uri": "https://localhost:8080/"
        },
        "outputId": "5d8ce992-dae3-48dd-c31a-0eaa08201b23"
      },
      "execution_count": 1,
      "outputs": [
        {
          "output_type": "stream",
          "name": "stdout",
          "text": [
            "Digite o nome: Lais\n",
            "Digite a idade: 31\n",
            "O paciente Lais possui atendimento prioritário? NÃO\n"
          ]
        }
      ]
    },
    {
      "cell_type": "markdown",
      "source": [
        "###Decisão Composta"
      ],
      "metadata": {
        "id": "DAlHKfQf_GkC"
      }
    },
    {
      "cell_type": "code",
      "source": [
        "nome=input(\"Digite o nome: \")\n",
        "idade=int(input(\"Digite a idade: \"))\n",
        "if idade>=65:\n",
        "    print(\"O paciente \" + nome + \" POSSUI atendimento prioritário!\")\n",
        "else:\n",
        "    print(\"O paciente \" + nome + \" NÃO possui atendimento prioritário!\")"
      ],
      "metadata": {
        "colab": {
          "base_uri": "https://localhost:8080/"
        },
        "id": "EJBzomdm_I2L",
        "outputId": "337ab5ea-6010-409c-a95e-a23be4e1f5c2"
      },
      "execution_count": 2,
      "outputs": [
        {
          "output_type": "stream",
          "name": "stdout",
          "text": [
            "Digite o nome: Lais\n",
            "Digite a idade: 31\n",
            "O paciente Lais NÃO possui atendimento prioritário!\n"
          ]
        }
      ]
    },
    {
      "cell_type": "markdown",
      "source": [
        "###Decisão composta com mais de 2 condições (elif)"
      ],
      "metadata": {
        "id": "jnEoOMwg_zgm"
      }
    },
    {
      "cell_type": "code",
      "source": [
        "nome=input(\"Digite o nome: \")\n",
        "idade=int(input(\"Digite a idade: \"))\n",
        "doenca_infectocontagiosa=input(\"Suspeita de doença infecto-contagiosa?\").upper()\n",
        "if idade>=65:\n",
        "    print(\"O paciente \" + nome + \" POSSUI atendimento prioritário!\")\n",
        "elif doenca_infectocontagiosa==\"SIM\":\n",
        "    print(\"O paciente \" + nome + \" deve ser direcionado para sala de espera reservada.\")\n",
        "else:\n",
        "    print(\"O paciente \" + nome + \" NÃO possui atendimento prioritário e pode aguardar na sala comum!\")"
      ],
      "metadata": {
        "colab": {
          "base_uri": "https://localhost:8080/"
        },
        "id": "gB1aW5qP_5aJ",
        "outputId": "45460ccd-d3ac-4967-de9c-c0737d3ec858"
      },
      "execution_count": 4,
      "outputs": [
        {
          "output_type": "stream",
          "name": "stdout",
          "text": [
            "Digite o nome: Lais\n",
            "Digite a idade: 31\n",
            "Suspeita de doença infecto-contagiosa?sim\n",
            "O paciente Lais deve ser direcionado para sala de espera reservada.\n"
          ]
        }
      ]
    },
    {
      "cell_type": "markdown",
      "source": [
        "###Decisões Encadeadas"
      ],
      "metadata": {
        "id": "A_rqnLRSAVe2"
      }
    },
    {
      "cell_type": "code",
      "source": [
        "nome=input(\"Digite o nome: \")\n",
        "idade=int(input(\"Digite a idade: \"))\n",
        "doenca_infectocontagiosa=input(\"Suspeita de doença infectocontagiosa?\").upper()\n",
        "if idade >= 65:\n",
        "    print(\"Paciente COM prioridade\")\n",
        "    if doenca_infectocontagiosa==\"SIM\":\n",
        "        print(\"Encaminhe o paciente para sala AMARELA\")\n",
        "    elif doenca_infectocontagiosa==\"NAO\":\n",
        "        print(\"Encaminhe o paciente para sala BRANCA\")\n",
        "    else:\n",
        "        print(\"Responda a suspeita de doença infectocontagiosa com SIM ou NAO\")\n",
        "else:\n",
        "    print(\"Paciente SEM prioridade\")\n",
        "    if doenca_infectocontagiosa==\"SIM\":\n",
        "        print(\"Encaminhe o paciente para sala AMARELA\")\n",
        "    elif doenca_infectocontagiosa==\"NAO\":\n",
        "        print(\"Encaminhe o paciente para sala BRANCA\")\n",
        "    else:\n",
        "        print(\"Responda a suspeita de doença infectocontagiosa com SIM ou NAO\")"
      ],
      "metadata": {
        "colab": {
          "base_uri": "https://localhost:8080/"
        },
        "id": "aM9wmE_bAcZB",
        "outputId": "8d3324c4-b52a-4081-9788-aa1cb489bbdb"
      },
      "execution_count": 5,
      "outputs": [
        {
          "output_type": "stream",
          "name": "stdout",
          "text": [
            "Digite o nome: Lais\n",
            "Digite a idade: 31\n",
            "Suspeita de doença infectocontagiosa?sim\n",
            "Paciente SEM prioridade\n",
            "Encaminhe o paciente para sala AMARELA\n"
          ]
        }
      ]
    },
    {
      "cell_type": "markdown",
      "source": [
        "#Laços de Repetições"
      ],
      "metadata": {
        "id": "xAQf1GbHAycy"
      }
    },
    {
      "cell_type": "code",
      "source": [],
      "metadata": {
        "id": "rYma2hjmAyOI"
      },
      "execution_count": null,
      "outputs": []
    }
  ]
}